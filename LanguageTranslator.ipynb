{
  "nbformat": 4,
  "nbformat_minor": 0,
  "metadata": {
    "colab": {
      "provenance": [],
      "authorship_tag": "ABX9TyN/LrkpMhuL0KgFwnsKGosA",
      "include_colab_link": true
    },
    "kernelspec": {
      "name": "python3",
      "display_name": "Python 3"
    },
    "language_info": {
      "name": "python"
    }
  },
  "cells": [
    {
      "cell_type": "markdown",
      "metadata": {
        "id": "view-in-github",
        "colab_type": "text"
      },
      "source": [
        "<a href=\"https://colab.research.google.com/github/RakshiSree/CodeAlpha_Task/blob/main/LanguageTranslator.ipynb\" target=\"_parent\"><img src=\"https://colab.research.google.com/assets/colab-badge.svg\" alt=\"Open In Colab\"/></a>"
      ]
    },
    {
      "cell_type": "code",
      "source": [
        "!pip install googletrans==4.0.0-rc1 --upgrade --no-cache-dir"
      ],
      "metadata": {
        "colab": {
          "base_uri": "https://localhost:8080/"
        },
        "id": "ab-PtMYyB_xa",
        "outputId": "561ce643-1622-4daf-d8dd-c0a2e097e792"
      },
      "execution_count": 3,
      "outputs": [
        {
          "output_type": "stream",
          "name": "stdout",
          "text": [
            "Collecting googletrans==4.0.0-rc1\n",
            "  Downloading googletrans-4.0.0rc1.tar.gz (20 kB)\n",
            "  Preparing metadata (setup.py) ... \u001b[?25l\u001b[?25hdone\n",
            "Collecting httpx==0.13.3 (from googletrans==4.0.0-rc1)\n",
            "  Downloading httpx-0.13.3-py3-none-any.whl.metadata (25 kB)\n",
            "Requirement already satisfied: certifi in /usr/local/lib/python3.11/dist-packages (from httpx==0.13.3->googletrans==4.0.0-rc1) (2025.4.26)\n",
            "Collecting hstspreload (from httpx==0.13.3->googletrans==4.0.0-rc1)\n",
            "  Downloading hstspreload-2025.1.1-py3-none-any.whl.metadata (2.1 kB)\n",
            "Requirement already satisfied: sniffio in /usr/local/lib/python3.11/dist-packages (from httpx==0.13.3->googletrans==4.0.0-rc1) (1.3.1)\n",
            "Collecting chardet==3.* (from httpx==0.13.3->googletrans==4.0.0-rc1)\n",
            "  Downloading chardet-3.0.4-py2.py3-none-any.whl.metadata (3.2 kB)\n",
            "Collecting idna==2.* (from httpx==0.13.3->googletrans==4.0.0-rc1)\n",
            "  Downloading idna-2.10-py2.py3-none-any.whl.metadata (9.1 kB)\n",
            "Collecting rfc3986<2,>=1.3 (from httpx==0.13.3->googletrans==4.0.0-rc1)\n",
            "  Downloading rfc3986-1.5.0-py2.py3-none-any.whl.metadata (6.5 kB)\n",
            "Collecting httpcore==0.9.* (from httpx==0.13.3->googletrans==4.0.0-rc1)\n",
            "  Downloading httpcore-0.9.1-py3-none-any.whl.metadata (4.6 kB)\n",
            "Collecting h11<0.10,>=0.8 (from httpcore==0.9.*->httpx==0.13.3->googletrans==4.0.0-rc1)\n",
            "  Downloading h11-0.9.0-py2.py3-none-any.whl.metadata (8.1 kB)\n",
            "Collecting h2==3.* (from httpcore==0.9.*->httpx==0.13.3->googletrans==4.0.0-rc1)\n",
            "  Downloading h2-3.2.0-py2.py3-none-any.whl.metadata (32 kB)\n",
            "Collecting hyperframe<6,>=5.2.0 (from h2==3.*->httpcore==0.9.*->httpx==0.13.3->googletrans==4.0.0-rc1)\n",
            "  Downloading hyperframe-5.2.0-py2.py3-none-any.whl.metadata (7.2 kB)\n",
            "Collecting hpack<4,>=3.0 (from h2==3.*->httpcore==0.9.*->httpx==0.13.3->googletrans==4.0.0-rc1)\n",
            "  Downloading hpack-3.0.0-py2.py3-none-any.whl.metadata (7.0 kB)\n",
            "Downloading httpx-0.13.3-py3-none-any.whl (55 kB)\n",
            "Downloading chardet-3.0.4-py2.py3-none-any.whl (133 kB)\n",
            "Downloading httpcore-0.9.1-py3-none-any.whl (42 kB)\n",
            "Downloading h11-0.9.0-py2.py3-none-any.whl (53 kB)\n",
            "Downloading h2-3.2.0-py2.py3-none-any.whl (65 kB)\n",
            "Downloading hpack-3.0.0-py2.py3-none-any.whl (38 kB)\n",
            "Downloading hyperframe-5.2.0-py2.py3-none-any.whl (12 kB)\n",
            "Downloading idna-2.10-py2.py3-none-any.whl (58 kB)\n",
            "Downloading rfc3986-1.5.0-py2.py3-none-any.whl (31 kB)\n",
            "Downloading hstspreload-2025.1.1-py3-none-any.whl (1.3 MB)\n",
            "\u001b[2K   \u001b[90m━━━━━━━━━━━━━━━━━━━━━━━━━━━━━━━━━━━━━━━━\u001b[0m \u001b[32m1.3/1.3 MB\u001b[0m \u001b[31m62.6 MB/s\u001b[0m eta \u001b[36m0:00:00\u001b[0m\n",
            "\u001b[?25hBuilding wheels for collected packages: googletrans\n",
            "\u001b[33m  DEPRECATION: Building 'googletrans' using the legacy setup.py bdist_wheel mechanism, which will be removed in a future version. pip 25.3 will enforce this behaviour change. A possible replacement is to use the standardized build interface by setting the `--use-pep517` option, (possibly combined with `--no-build-isolation`), or adding a `pyproject.toml` file to the source tree of 'googletrans'. Discussion can be found at https://github.com/pypa/pip/issues/6334\u001b[0m\u001b[33m\n",
            "\u001b[0m  Building wheel for googletrans (setup.py) ... \u001b[?25l\u001b[?25hdone\n",
            "  Created wheel for googletrans: filename=googletrans-4.0.0rc1-py3-none-any.whl size=17453 sha256=b207fe08bb0b624b1b9dede1e910dc52651d4c39eeac304d67d83f579ba01000\n",
            "  Stored in directory: /tmp/pip-ephem-wheel-cache-_sjy3unj/wheels/39/17/6f/66a045ea3d168826074691b4b787b8f324d3f646d755443fda\n",
            "Successfully built googletrans\n",
            "Installing collected packages: rfc3986, hyperframe, hpack, h11, chardet, idna, hstspreload, h2, httpcore, httpx, googletrans\n",
            "\u001b[2K  Attempting uninstall: hyperframe\n",
            "\u001b[2K    Found existing installation: hyperframe 6.1.0\n",
            "\u001b[2K    Uninstalling hyperframe-6.1.0:\n",
            "\u001b[2K      Successfully uninstalled hyperframe-6.1.0\n",
            "\u001b[2K  Attempting uninstall: hpack\n",
            "\u001b[2K    Found existing installation: hpack 4.1.0\n",
            "\u001b[2K    Uninstalling hpack-4.1.0:\n",
            "\u001b[2K      Successfully uninstalled hpack-4.1.0\n",
            "\u001b[2K  Attempting uninstall: h11\n",
            "\u001b[2K    Found existing installation: h11 0.16.0\n",
            "\u001b[2K    Uninstalling h11-0.16.0:\n",
            "\u001b[2K      Successfully uninstalled h11-0.16.0\n",
            "\u001b[2K  Attempting uninstall: chardet\n",
            "\u001b[2K    Found existing installation: chardet 5.2.0\n",
            "\u001b[2K    Uninstalling chardet-5.2.0:\n",
            "\u001b[2K      Successfully uninstalled chardet-5.2.0\n",
            "\u001b[2K  Attempting uninstall: idna\n",
            "\u001b[2K    Found existing installation: idna 3.10\n",
            "\u001b[2K    Uninstalling idna-3.10:\n",
            "\u001b[2K      Successfully uninstalled idna-3.10\n",
            "\u001b[2K  Attempting uninstall: h2\n",
            "\u001b[2K    Found existing installation: h2 4.2.0\n",
            "\u001b[2K    Uninstalling h2-4.2.0:\n",
            "\u001b[2K      Successfully uninstalled h2-4.2.0\n",
            "\u001b[2K  Attempting uninstall: httpcore\n",
            "\u001b[2K    Found existing installation: httpcore 1.0.9\n",
            "\u001b[2K    Uninstalling httpcore-1.0.9:\n",
            "\u001b[2K      Successfully uninstalled httpcore-1.0.9\n",
            "\u001b[2K  Attempting uninstall: httpx\n",
            "\u001b[2K    Found existing installation: httpx 0.28.1\n",
            "\u001b[2K    Uninstalling httpx-0.28.1:\n",
            "\u001b[2K      Successfully uninstalled httpx-0.28.1\n",
            "\u001b[2K   \u001b[90m━━━━━━━━━━━━━━━━━━━━━━━━━━━━━━━━━━━━━━━━\u001b[0m \u001b[32m11/11\u001b[0m [googletrans]\n",
            "\u001b[1A\u001b[2K\u001b[31mERROR: pip's dependency resolver does not currently take into account all the packages that are installed. This behaviour is the source of the following dependency conflicts.\n",
            "langsmith 0.3.42 requires httpx<1,>=0.23.0, but you have httpx 0.13.3 which is incompatible.\n",
            "openai 1.78.0 requires httpx<1,>=0.23.0, but you have httpx 0.13.3 which is incompatible.\n",
            "google-genai 1.14.0 requires httpx<1.0.0,>=0.28.1, but you have httpx 0.13.3 which is incompatible.\u001b[0m\u001b[31m\n",
            "\u001b[0mSuccessfully installed chardet-3.0.4 googletrans-4.0.0rc1 h11-0.9.0 h2-3.2.0 hpack-3.0.0 hstspreload-2025.1.1 httpcore-0.9.1 httpx-0.13.3 hyperframe-5.2.0 idna-2.10 rfc3986-1.5.0\n"
          ]
        }
      ]
    },
    {
      "cell_type": "code",
      "source": [
        "!pip install --upgrade pip setuptools\n",
        "!pip install googletrans==4.0.0-rc1 httpx==0.18.2 --upgrade --no-cache-dir"
      ],
      "metadata": {
        "colab": {
          "base_uri": "https://localhost:8080/"
        },
        "id": "UQ0-xQh3B_3F",
        "outputId": "cbb8eba6-5e10-45a8-fdb6-b911383df5d5"
      },
      "execution_count": 4,
      "outputs": [
        {
          "output_type": "stream",
          "name": "stdout",
          "text": [
            "Requirement already satisfied: pip in /usr/local/lib/python3.11/dist-packages (25.1.1)\n",
            "Requirement already satisfied: setuptools in /usr/local/lib/python3.11/dist-packages (80.4.0)\n",
            "Requirement already satisfied: googletrans==4.0.0-rc1 in /usr/local/lib/python3.11/dist-packages (4.0.0rc1)\n",
            "Collecting httpx==0.18.2\n",
            "  Downloading httpx-0.18.2-py3-none-any.whl.metadata (44 kB)\n",
            "INFO: pip is looking at multiple versions of googletrans to determine which version is compatible with other requirements. This could take a while.\n",
            "Collecting googletrans==4.0.0-rc1\n",
            "  Downloading googletrans-4.0.0rc1.tar.gz (20 kB)\n",
            "  Preparing metadata (setup.py) ... \u001b[?25l\u001b[?25hdone\n",
            "\u001b[31mERROR: Cannot install googletrans==4.0.0rc1 and httpx==0.18.2 because these package versions have conflicting dependencies.\u001b[0m\u001b[31m\n",
            "\u001b[0m\n",
            "The conflict is caused by:\n",
            "    The user requested httpx==0.18.2\n",
            "    googletrans 4.0.0rc1 depends on httpx==0.13.3\n",
            "    googletrans 4.0.0rc1 depends on httpx==0.13.3\n",
            "\n",
            "To fix this you could try to:\n",
            "1. loosen the range of package versions you've specified\n",
            "2. remove package versions to allow pip to attempt to solve the dependency conflict\n",
            "\n",
            "\u001b[31mERROR: ResolutionImpossible: for help visit https://pip.pypa.io/en/latest/topics/dependency-resolution/#dealing-with-dependency-conflicts\u001b[0m\u001b[31m\n",
            "\u001b[0m"
          ]
        }
      ]
    },
    {
      "cell_type": "code",
      "source": [
        "from googletrans import Translator\n",
        "print(\"Googletrans is successfully installed and working.\")"
      ],
      "metadata": {
        "colab": {
          "base_uri": "https://localhost:8080/"
        },
        "id": "a2JA9zAWB_-v",
        "outputId": "7c9de97d-c2bf-4b40-cf96-de49ab36781e"
      },
      "execution_count": 5,
      "outputs": [
        {
          "output_type": "stream",
          "name": "stdout",
          "text": [
            "Googletrans is successfully installed and working.\n"
          ]
        }
      ]
    },
    {
      "cell_type": "code",
      "source": [
        "from googletrans import Translator, LANGUAGES\n",
        "\n",
        "# Initialize the Translator\n",
        "translator = Translator()\n",
        "\n",
        "# Function to translate text\n",
        "def translate_text(text, target_language):\n",
        "    try:\n",
        "        # Ensure target language is supported\n",
        "        if target_language not in LANGUAGES:\n",
        "            print(\"Unsupported language code. Please use a valid one.\")\n",
        "            return\n",
        "\n",
        "        # Translate the text\n",
        "        translation = translator.translate(text, dest=target_language)\n",
        "        print(f\"\\nOriginal Text: {text}\")\n",
        "        print(f\"Translated Text ({LANGUAGES[target_language]}): {translation.text}\")\n",
        "    except Exception as e:\n",
        "        print(\"Error:\", e)\n",
        "\n",
        "# Example Usage\n",
        "text_to_translate = input(\"\\nEnter the text to translate: \")\n",
        "target_lang = input(\"Enter target language code (e.g., 'es' for Spanish, 'fr' for French): \").lower()\n",
        "translate_text(text_to_translate, target_lang)"
      ],
      "metadata": {
        "colab": {
          "base_uri": "https://localhost:8080/"
        },
        "id": "coev-4ztCTPL",
        "outputId": "05a6ce25-b6d4-4a4d-eb4a-2d9dbca4802b"
      },
      "execution_count": 6,
      "outputs": [
        {
          "output_type": "stream",
          "name": "stdout",
          "text": [
            "\n",
            "Enter the text to translate: hello this is Sree\n",
            "Enter target language code (e.g., 'es' for Spanish, 'fr' for French): fr\n",
            "\n",
            "Original Text: hello this is Sree\n",
            "Translated Text (french): bonjour c'est sree\n"
          ]
        }
      ]
    }
  ]
}