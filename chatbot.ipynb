{
  "nbformat": 4,
  "nbformat_minor": 0,
  "metadata": {
    "colab": {
      "provenance": [],
      "authorship_tag": "ABX9TyOY0qpA/HT3MZ2HAcpZSkUS",
      "include_colab_link": true
    },
    "kernelspec": {
      "name": "python3",
      "display_name": "Python 3"
    },
    "language_info": {
      "name": "python"
    }
  },
  "cells": [
    {
      "cell_type": "markdown",
      "metadata": {
        "id": "view-in-github",
        "colab_type": "text"
      },
      "source": [
        "<a href=\"https://colab.research.google.com/github/RakshiSree/CodeAlpha_Task/blob/main/chatbot.ipynb\" target=\"_parent\"><img src=\"https://colab.research.google.com/assets/colab-badge.svg\" alt=\"Open In Colab\"/></a>"
      ]
    },
    {
      "cell_type": "code",
      "execution_count": 1,
      "metadata": {
        "colab": {
          "base_uri": "https://localhost:8080/"
        },
        "id": "dLqEMyDqPruC",
        "outputId": "0342ec25-ce02-45d1-81ed-25a92023d2e3"
      },
      "outputs": [
        {
          "output_type": "stream",
          "name": "stdout",
          "text": [
            "Collecting en-core-web-sm==3.8.0\n",
            "  Downloading https://github.com/explosion/spacy-models/releases/download/en_core_web_sm-3.8.0/en_core_web_sm-3.8.0-py3-none-any.whl (12.8 MB)\n",
            "\u001b[2K     \u001b[90m━━━━━━━━━━━━━━━━━━━━━━━━━━━━━━━━━━━━━━━━\u001b[0m \u001b[32m12.8/12.8 MB\u001b[0m \u001b[31m33.2 MB/s\u001b[0m eta \u001b[36m0:00:00\u001b[0m\n",
            "\u001b[?25h\u001b[38;5;2m✔ Download and installation successful\u001b[0m\n",
            "You can now load the package via spacy.load('en_core_web_sm')\n",
            "\u001b[38;5;3m⚠ Restart to reload dependencies\u001b[0m\n",
            "If you are in a Jupyter or Colab notebook, you may need to restart Python in\n",
            "order to load all the package's dependencies. You can do this by selecting the\n",
            "'Restart kernel' or 'Restart runtime' option.\n"
          ]
        }
      ],
      "source": [
        "!pip install -q spacy scikit-learn\n",
        "!python -m spacy download en_core_web_sm"
      ]
    },
    {
      "cell_type": "code",
      "source": [
        "import spacy\n",
        "from sklearn.feature_extraction.text import TfidfVectorizer\n",
        "from sklearn.metrics.pairwise import cosine_similarity\n",
        "\n",
        "# Load SpaCy English model\n",
        "nlp = spacy.load(\"en_core_web_sm\")\n",
        "\n",
        "# FAQ dataset: You can expand this\n",
        "faq_data = {\n",
        "    \"What is your return policy?\": \"You can return items within 30 days with the original receipt.\",\n",
        "    \"How can I track my order?\": \"Use the tracking link sent to your email after shipping.\",\n",
        "    \"Do you ship internationally?\": \"Yes, we ship to over 50 countries worldwide.\",\n",
        "    \"What payment methods do you accept?\": \"We accept Credit Cards, PayPal, and UPI payments.\"\n",
        "}\n",
        "\n",
        "# Extract questions and answers\n",
        "questions = list(faq_data.keys())\n",
        "answers = list(faq_data.values())\n",
        "\n",
        "# Chatbot function using cosine similarity\n",
        "def get_response(user_input):\n",
        "    all_questions = questions + [user_input]\n",
        "    vectorizer = TfidfVectorizer()\n",
        "    tfidf_matrix = vectorizer.fit_transform(all_questions)\n",
        "    similarity_scores = cosine_similarity(tfidf_matrix[-1], tfidf_matrix[:-1])\n",
        "    best_match_index = similarity_scores.argmax()\n",
        "    return answers[best_match_index]"
      ],
      "metadata": {
        "id": "yx_jqEAC_E30"
      },
      "execution_count": 1,
      "outputs": []
    },
    {
      "cell_type": "code",
      "source": [
        "# Interactive chatbot (works in Colab console)\n",
        "print(\"Welcome to the FAQ Chatbot! (Type 'exit' to quit)\")\n",
        "while True:\n",
        "    user_input = input(\"You: \")\n",
        "    if user_input.lower() == 'exit':\n",
        "        print(\"Chatbot: Thank you! Have a nice day.\")\n",
        "        break\n",
        "    print(\"Chatbot:\", get_response(user_input))"
      ],
      "metadata": {
        "colab": {
          "base_uri": "https://localhost:8080/"
        },
        "id": "jOJtuFRF_dj4",
        "outputId": "41981327-cd11-439b-beed-de2eae060dc0"
      },
      "execution_count": 3,
      "outputs": [
        {
          "output_type": "stream",
          "name": "stdout",
          "text": [
            "Welcome to the FAQ Chatbot! (Type 'exit' to quit)\n",
            "You: \"How do I check my order status?\"\n",
            "Chatbot: Use the tracking link sent to your email after shipping.\n",
            "You: exit\n",
            "Chatbot: Thank you! Have a nice day.\n"
          ]
        }
      ]
    },
    {
      "cell_type": "code",
      "source": [
        "# Test Example\n",
        "user_question = \"How do I check my order status?\"\n",
        "response = get_response(user_question)\n",
        "print(\"Chatbot:\", response)"
      ],
      "metadata": {
        "colab": {
          "base_uri": "https://localhost:8080/"
        },
        "id": "v9t2sHNC_Ees",
        "outputId": "1126915c-f8a9-4332-d9fb-fdada2754610"
      },
      "execution_count": 2,
      "outputs": [
        {
          "output_type": "stream",
          "name": "stdout",
          "text": [
            "Chatbot: Use the tracking link sent to your email after shipping.\n"
          ]
        }
      ]
    }
  ]
}